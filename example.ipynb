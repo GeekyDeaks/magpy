{
 "cells": [
  {
   "cell_type": "code",
   "execution_count": null,
   "metadata": {},
   "outputs": [],
   "source": [
    "import numpy as np\n",
    "import matplotlib.pyplot as plt\n",
    "from magpylib.source.magnet import Cylinder\n",
    "from magpylib import Collection, displaySystem\n",
    "\n",
    "# create magnets\n",
    "s1 = Cylinder(mag=(0,0,500), dim=(6,3), pos=(0, 0, -4))\n",
    "s2 = Cylinder(mag=(0,0,500), dim=(6,3), pos=(0, 0, 4))\n",
    "\n",
    "c = Collection(s1,s2)\n",
    "\n",
    "# calculate B-field on a grid\n",
    "xs = np.linspace(-10,10,50)\n",
    "zs = np.linspace(-10,10,50)\n",
    "POS = np.array([(x,0,z) for z in zs for x in xs])\n",
    "Bs = c.getB(POS).reshape(50,50,3)     #<--VECTORIZED\n",
    "\n",
    "# create figure\n",
    "fig = plt.figure(figsize=(9,5))\n",
    "ax1 = fig.add_subplot(121, projection='3d')  # 3D-axis\n",
    "ax2 = fig.add_subplot(122)                   # 2D-axis\n",
    "\n",
    "# display system geometry on ax1\n",
    "displaySystem(c, subplotAx=ax1, suppress=True)\n",
    "\n",
    "# display field in xz-plane using matplotlib\n",
    "X,Z = np.meshgrid(xs,zs)\n",
    "U,V = Bs[:,:,0], Bs[:,:,2]\n",
    "ax2.streamplot(X, Z, U, V, color=np.log(U**2+V**2))\n",
    "\n",
    "plt.show()"
   ]
  },
  {
   "cell_type": "code",
   "execution_count": null,
   "metadata": {},
   "outputs": [],
   "source": []
  }
 ],
 "metadata": {
  "kernelspec": {
   "display_name": "Python 3",
   "language": "python",
   "name": "python3"
  },
  "language_info": {
   "codemirror_mode": {
    "name": "ipython",
    "version": 3
   },
   "file_extension": ".py",
   "mimetype": "text/x-python",
   "name": "python",
   "nbconvert_exporter": "python",
   "pygments_lexer": "ipython3",
   "version": "3.8.5"
  }
 },
 "nbformat": 4,
 "nbformat_minor": 4
}
