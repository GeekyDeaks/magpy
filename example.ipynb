{
 "cells": [
  {
   "cell_type": "code",
   "execution_count": null,
   "metadata": {},
   "outputs": [],
   "source": [
    "import numpy as np\n",
    "import matplotlib.pyplot as plt\n",
    "from magpylib.source.magnet import Cylinder\n",
    "from magpylib import Collection, displaySystem\n",
    "\n",
    "# create magnets\n",
    "# asume 4300G 430mT\n",
    "s1 = Cylinder(mag=(0,0,430), dim=(6,3), pos=(0, 0, -4))\n",
    "s2 = Cylinder(mag=(0,0,430), dim=(6,3), pos=(0, 0, 4))\n",
    "\n",
    "c = Collection(s1,s2)\n",
    "\n",
    "# calculate B-field on a grid\n",
    "xs = np.linspace(-10,10,40)\n",
    "zs = np.linspace(-10,10,40)\n",
    "POS = np.array([(x,0,z) for z in zs for x in xs])\n",
    "Bs = c.getB(POS).reshape(40,40,3)     #<--VECTORIZED\n",
    "ZPOS = np.array([(0,0,z) for z in zs])\n",
    "Bz = c.getB(ZPOS)\n",
    "\n",
    "# create figure\n",
    "fig = plt.figure(figsize=(16,16))\n",
    "ax1 = fig.add_subplot(221, projection='3d')  # 3D-axis\n",
    "ax2 = fig.add_subplot(222)                   # 2D-axis\n",
    "ax3 = fig.add_subplot(223)\n",
    "ax4 = fig.add_subplot(224)\n",
    "\n",
    "# display system geometry on ax1\n",
    "displaySystem(c, subplotAx=ax1, suppress=True)\n",
    "\n",
    "# display field in xz-plane using matplotlib\n",
    "X,Z = np.meshgrid(xs,zs)\n",
    "U,V = Bs[:,:,0], Bs[:,:,2]\n",
    "C = np.sqrt(Bs[:,:,0] ** 2 + Bs[:,:,2] ** 2)\n",
    "\n",
    "#ax2.streamplot(X, Z, U, V, color=np.log(U**2+V**2))\n",
    "ax2.streamplot(X, Z, U, V)\n",
    "ax3.contour(X, Z, V, 40, colors=['grey'])\n",
    "\n",
    "deg35 = np.cos(np.radians(35))\n",
    "ax4.plot(zs, Bz[:,2])\n",
    "ax4.plot(zs, Bz[:,2] * deg35)\n",
    "\n",
    "\n",
    "plt.show()"
   ]
  },
  {
   "cell_type": "code",
   "execution_count": null,
   "metadata": {},
   "outputs": [],
   "source": []
  }
 ],
 "metadata": {
  "kernelspec": {
   "display_name": "Python 3",
   "language": "python",
   "name": "python3"
  },
  "language_info": {
   "codemirror_mode": {
    "name": "ipython",
    "version": 3
   },
   "file_extension": ".py",
   "mimetype": "text/x-python",
   "name": "python",
   "nbconvert_exporter": "python",
   "pygments_lexer": "ipython3",
   "version": "3.8.5"
  }
 },
 "nbformat": 4,
 "nbformat_minor": 4
}
