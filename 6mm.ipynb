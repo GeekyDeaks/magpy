{
 "cells": [
  {
   "cell_type": "code",
   "execution_count": null,
   "metadata": {},
   "outputs": [],
   "source": [
    "import numpy as np\n",
    "import math\n",
    "import matplotlib.pyplot as plt\n",
    "from magpylib.source.magnet import Box,Cylinder\n",
    "from magpylib import Collection, displaySystem\n",
    "from matplotlib.patches import Rectangle\n",
    "import magpylib as mp"
   ]
  },
  {
   "cell_type": "code",
   "execution_count": null,
   "metadata": {},
   "outputs": [],
   "source": [
    "VMAX = 2.4\n",
    "\n",
    "# sensitivity of each sensor type\n",
    "mVG = [\n",
    "    5,      # A1324\n",
    "    3.125,  # A1325\n",
    "    2.5     # A1326\n",
    "]\n",
    "\n",
    "# ratio of G or mT at 35deg\n",
    "RATIO_35DEG = np.sin(np.deg2rad(35))\n",
    "G_mT = 0.1 # Gauss per mT\n",
    "\n",
    "# mT required to hit VMAX at 35deg\n",
    "mT_MAX = [(VMAX / (s / 1000) / RATIO_35DEG * G_mT)  for s in mVG]\n",
    "\n",
    "# magnets\n",
    "M_DIA = 6\n",
    "M_HEIGHT = 3\n",
    "M_SEP = 7 + M_HEIGHT\n",
    "M_mT = 550\n",
    "\n",
    "MAG_R1 = Rectangle((-M_DIA/2, -M_HEIGHT/2 - M_SEP/2), M_DIA, M_HEIGHT, fc='lightgray')\n",
    "MAG_R2 = Rectangle((-M_DIA/2, -M_HEIGHT/2 + M_SEP/2), M_DIA, M_HEIGHT, fc='lightgray')\n",
    "\n"
   ]
  },
  {
   "cell_type": "code",
   "execution_count": null,
   "metadata": {},
   "outputs": [],
   "source": [
    "# create magnets\n",
    "s1 = Cylinder(mag=(0,0,M_mT), dim=(M_DIA, M_HEIGHT), pos=(0, 0, -M_SEP/2))\n",
    "s2 = Cylinder(mag=(0,0,M_mT), dim=(M_DIA, M_HEIGHT), pos=(0, 0, M_SEP/2))\n",
    "\n",
    "c = Collection(s1,s2)"
   ]
  },
  {
   "cell_type": "code",
   "execution_count": null,
   "metadata": {},
   "outputs": [],
   "source": [
    "# calculate B-field on a grid\n",
    "xs = np.linspace(-10,10,40)\n",
    "zs = np.linspace(-10,10,40)\n",
    "\n",
    "POS = np.array([(x,0,z) for z in zs for x in xs])\n",
    "Bs = c.getB(POS).reshape(40,40,3)\n",
    "\n",
    "ZPOS = np.array([(0,0,z) for z in zs])\n",
    "Bz = c.getB(ZPOS)"
   ]
  },
  {
   "cell_type": "code",
   "execution_count": null,
   "metadata": {},
   "outputs": [],
   "source": [
    "# create figure\n",
    "fig = plt.figure(figsize=(16,16))\n",
    "ax1 = fig.add_subplot(221, projection='3d')  # 3D-axis\n",
    "ax2 = fig.add_subplot(222)                   # 2D-axis\n",
    "ax3 = fig.add_subplot(223)\n",
    "ax4 = fig.add_subplot(224)\n",
    "\n",
    "# display system geometry on ax1\n",
    "displaySystem(c, subplotAx=ax1, suppress=True)\n",
    "\n",
    "# display field in xz-plane using matplotlib\n",
    "X,Z = np.meshgrid(xs,zs)\n",
    "U,V = Bs[:,:,0], Bs[:,:,2]\n",
    "ax2.streamplot(X, Z, U, V)\n",
    "\n",
    "# display contours for mT_MAX\n",
    "ax3.contour(X, Z, np.abs(V), mT_MAX, colors=['red', 'green', 'blue'])\n",
    "ax3.add_patch(MAG_R1)\n",
    "ax3.add_patch(MAG_R2)\n",
    "\n",
    "# show field strength along the Z axis\n",
    "ax4.plot(zs, Bz[:,2])\n",
    "ax4.plot(zs, np.full(len(Bz), mT_MAX[0]), color='red', label='A1324')\n",
    "ax4.plot(zs, np.full(len(Bz), mT_MAX[1]), color='green', label='A1325')\n",
    "ax4.plot(zs, np.full(len(Bz), mT_MAX[2]), color='blue', label='A1326')\n",
    "ax4.grid(True)\n",
    "\n",
    "plt.show()"
   ]
  },
  {
   "cell_type": "code",
   "execution_count": null,
   "metadata": {},
   "outputs": [],
   "source": []
  }
 ],
 "metadata": {
  "kernelspec": {
   "display_name": "Python 3",
   "language": "python",
   "name": "python3"
  },
  "language_info": {
   "codemirror_mode": {
    "name": "ipython",
    "version": 3
   },
   "file_extension": ".py",
   "mimetype": "text/x-python",
   "name": "python",
   "nbconvert_exporter": "python",
   "pygments_lexer": "ipython3",
   "version": "3.8.5"
  }
 },
 "nbformat": 4,
 "nbformat_minor": 4
}
